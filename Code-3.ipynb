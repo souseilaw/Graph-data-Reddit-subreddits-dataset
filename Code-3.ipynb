{
 "cells": [
  {
   "cell_type": "code",
   "execution_count": null,
   "metadata": {},
   "outputs": [],
   "source": [
    "import pandas as pd\n",
    "import numpy as np\n",
    "import gc\n",
    "import seaborn as sns\n",
    "import matplotlib.pyplot as plt"
   ]
  },
  {
   "cell_type": "code",
   "execution_count": null,
   "metadata": {},
   "outputs": [],
   "source": [
    "%%time \n",
    "file = pd.read_csv('soc-redditHyperlinks-body.tsv', delimiter='\\t')\n",
    "len(file)"
   ]
  },
  {
   "cell_type": "code",
   "execution_count": null,
   "metadata": {},
   "outputs": [],
   "source": [
    "file['year']=pd.to_datetime(file.TIMESTAMP,format='%Y-%m-%d %H:%M:%S').dt.year\n",
    "file['date']=pd.to_datetime(file.TIMESTAMP,format='%Y-%m-%d %H:%M:%S').dt.date\n",
    "file['month']=pd.to_datetime(file.TIMESTAMP,format='%Y-%m-%d %H:%M:%S').dt.month\n",
    "file['day']=pd.to_datetime(file.TIMESTAMP,format='%Y-%m-%d %H:%M:%S').dt.day"
   ]
  },
  {
   "cell_type": "code",
   "execution_count": null,
   "metadata": {},
   "outputs": [],
   "source": [
    "u_years = file['year'].unique().tolist()\n",
    "u_years.sort()"
   ]
  },
  {
   "cell_type": "code",
   "execution_count": null,
   "metadata": {},
   "outputs": [],
   "source": [
    "year_2013 = file[file.year == 2013] \n",
    "dec_2013 = year_2013[year_2013.month==12]\n",
    "newyear_2013 = dec_2013[dec_2013.day==31]\n",
    "len(newyear_2013)"
   ]
  },
  {
   "cell_type": "code",
   "execution_count": null,
   "metadata": {},
   "outputs": [],
   "source": [
    "year_2014 = file[file.year == 2014] \n",
    "dec_2014 = year_2014[year_2014.month==12]\n",
    "newyear_2014 = dec_2014[dec_2014.day==31]\n",
    "len(newyear_2014)"
   ]
  },
  {
   "cell_type": "code",
   "execution_count": null,
   "metadata": {},
   "outputs": [],
   "source": [
    "year_2015 = file[file.year == 2015] \n",
    "dec_2015 = year_2015[year_2015.month==12]\n",
    "newyear_2015 = dec_2015[dec_2015.day==31]\n",
    "len(newyear_2015)"
   ]
  },
  {
   "cell_type": "code",
   "execution_count": null,
   "metadata": {},
   "outputs": [],
   "source": [
    "year_2016 = file[file.year == 2016] \n",
    "dec_2016 = year_2016[year_2016.month==12]\n",
    "newyear_2016 = dec_2016[dec_2016.day==31]\n",
    "len(newyear_2016)"
   ]
  },
  {
   "cell_type": "code",
   "execution_count": null,
   "metadata": {},
   "outputs": [],
   "source": [
    "year_2017 = file[file.year == 2017] \n",
    "dec_2017 = year_2017[year_2017.month==12]\n",
    "newyear_2017 = dec_2017[dec_2017.day==31]\n",
    "newyear_2017.count()\n",
    "len(newyear_2017)"
   ]
  },
  {
   "cell_type": "code",
   "execution_count": null,
   "metadata": {},
   "outputs": [],
   "source": [
    "\n",
    "sns.countplot(y='year', data=file,palette='Set2')"
   ]
  },
  {
   "cell_type": "code",
   "execution_count": null,
   "metadata": {},
   "outputs": [],
   "source": [
    "new_year = [len(newyear_2013),len(newyear_2014),len(newyear_2015),len(newyear_2016)]\n",
    "years = u_years[:-1]\n",
    "colors = [\"#83c817\", \"#ff7f0e\", \"#41bfd5\", \"#e0db6a\", \"#8c564b\"]\n",
    "plt.pie(new_year, colors=colors, labels=years, startangle=0, autopct='%.1f%%')\n",
    "plt.axis('equal')\n",
    "plt.legend(years ,title=\"New Year Eve subreddits variation over the year 2013-2107\", bbox_to_anchor=(1.8,0.6),loc='right', bbox_transform=plt.gcf().transFigure)\n",
    "plt.show()"
   ]
  },
  {
   "cell_type": "code",
   "execution_count": null,
   "metadata": {},
   "outputs": [],
   "source": [
    "# years = u_years[:-1]\n",
    "years = ['2013','2014','2015','2016']\n",
    "\n",
    "fig, ax1 = plt.subplots(figsize=(15,5))\n",
    "ax1.plot(years,new_year, \"r-o\")\n",
    "ax1.set_ylim(0,)\n",
    "ax1.grid(None)\n",
    "\n",
    "ax1.set_xlabel('Years')\n",
    "ax1.set_ylabel('Number of subreddits');\n",
    "\n",
    "plt.title('Variation of Subreddits over the year on new years eve')\n",
    "plt.show()"
   ]
  },
  {
   "cell_type": "code",
   "execution_count": null,
   "metadata": {},
   "outputs": [],
   "source": [
    "ax1.y"
   ]
  }
 ],
 "metadata": {
  "kernelspec": {
   "display_name": "Python 3",
   "language": "python",
   "name": "python3"
  },
  "language_info": {
   "codemirror_mode": {
    "name": "ipython",
    "version": 3
   },
   "file_extension": ".py",
   "mimetype": "text/x-python",
   "name": "python",
   "nbconvert_exporter": "python",
   "pygments_lexer": "ipython3",
   "version": "3.7.3"
  }
 },
 "nbformat": 4,
 "nbformat_minor": 2
}
